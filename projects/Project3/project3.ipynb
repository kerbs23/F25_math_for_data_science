{
 "cells": [
  {
   "cell_type": "markdown",
   "metadata": {
    "id": "0gdC70xxFyc4"
   },
   "source": [
    "Math 5750/6880: Mathematics of Data Science \\\n",
    "Project 3"
   ]
  },
  {
   "cell_type": "markdown",
   "metadata": {
    "id": "i9_7SnpMGKDJ"
   },
   "source": [
    "# 1. Fashion-MNIST image classification using sklearn"
   ]
  },
  {
   "cell_type": "code",
   "execution_count": null,
   "metadata": {
    "id": "AB136H0PGKq1"
   },
   "outputs": [],
   "source": [
    "# ruff: noqa: E402 F401\n",
    "\n",
    "from cProfile import label\n",
    "from tensorflow.keras.datasets import fashion_mnist #pyright: ignore\n",
    "from sklearn.preprocessing import StandardScaler\n",
    "\n",
    "# Load Fashion-MNIST\n",
    "# Classes (0-9): T-shirt/top, Trouser, Pullover, Dress, Coat, Sandal, Shirt, Sneaker, Bag, Ankle boot\n",
    "(X_train, y_train), (X_test, y_test) = fashion_mnist.load_data()\n",
    "X_train = X_train.reshape(len(X_train), -1)\n",
    "X_test  = X_test.reshape(len(X_test), -1)\n",
    "\n",
    "# Scale features\n",
    "scaler = StandardScaler()\n",
    "X_train = scaler.fit_transform(X_train)\n",
    "X_test = scaler.transform(X_test)"
   ]
  },
  {
   "cell_type": "code",
   "execution_count": null,
   "metadata": {
    "id": "5GAsN-dmHjRM"
   },
   "outputs": [],
   "source": [
    "from sklearn.neural_network import MLPClassifier\n",
    "from sklearn.metrics import accuracy_score, classification_report, confusion_matrix\n",
    "import time\n",
    "\n",
    "\n",
    "\n",
    "print('Training...')\n",
    "start_time = time.time()\n",
    "classifier = MLPClassifier().fit(X_train, y_train)\n",
    "training_time = time.time() - start_time\n",
    "print(f'Took {training_time}')\n",
    "\n",
    "\n",
    "def evaluate_model(model, X_test = X_test, y_test = y_test, training_time = training_time):\n",
    "    labels = ['T-shirt/top', 'Trouser', 'Pullover', 'Dress', 'Coat', 'Sandal', 'Shirt', 'Sneaker', 'Bag', 'Ankle-boot']\n",
    "\n",
    "    y_pred = model.predict(X_test)\n",
    "    print(accuracy_score(y_test, y_pred=y_pred, normalize=True))\n",
    "    print(classification_report(y_test, y_pred, labels=labels))\n",
    "    print(confusion_matrix(y_test, y_pred, labels=labels))\n",
    "\n",
    "evaluate_model(classifier)"
   ]
  },
  {
   "cell_type": "markdown",
   "metadata": {
    "id": "a2qcKggmIH8T"
   },
   "source": [
    "# 3. Fashion-MNIST image classification  using pytorch"
   ]
  },
  {
   "cell_type": "code",
   "execution_count": 4,
   "metadata": {
    "id": "B9IQwhgcIVOl"
   },
   "outputs": [],
   "source": [
    "import numpy as np\n",
    "from tensorflow.keras.datasets import fashion_mnist\n",
    "import torch\n",
    "from torch.utils.data import TensorDataset, DataLoader\n",
    "\n",
    "# Load Fashion-MNIST\n",
    "# Classes (0-9): T-shirt/top, Trouser, Pullover, Dress, Coat, Sandal, Shirt, Sneaker, Bag, Ankle boot\n",
    "(X_train, y_train), (X_test, y_test) = fashion_mnist.load_data()\n",
    "\n",
    "# scale to [0,1], add channel dimension -> (N, 1, 28, 28)\n",
    "X_train = (X_train.astype(\"float32\") / 255.0)[:, None, :, :]\n",
    "X_test  = (X_test.astype(\"float32\")  / 255.0)[:,  None, :, :]\n",
    "\n",
    "y_train = y_train.astype(np.int64)\n",
    "y_test  = y_test.astype(np.int64)\n",
    "\n",
    "# train/val split: last 10k of train as validation\n",
    "X_tr, X_val = X_train[:50000], X_train[50000:]\n",
    "y_tr, y_val = y_train[:50000], y_train[50000:]\n",
    "\n",
    "# wrap in PyTorch TensorDatasets and DataLoaders\n",
    "train_ds = TensorDataset(torch.from_numpy(X_tr),  torch.from_numpy(y_tr))\n",
    "val_ds   = TensorDataset(torch.from_numpy(X_val), torch.from_numpy(y_val))\n",
    "test_ds  = TensorDataset(torch.from_numpy(X_test), torch.from_numpy(y_test))\n",
    "\n",
    "train_loader = DataLoader(train_ds, batch_size=128, shuffle=True)\n",
    "val_loader   = DataLoader(val_ds,   batch_size=256, shuffle=False)\n",
    "test_loader  = DataLoader(test_ds,  batch_size=256, shuffle=False)"
   ]
  },
  {
   "cell_type": "code",
   "execution_count": null,
   "metadata": {
    "id": "0REsDBunNmEl"
   },
   "outputs": [],
   "source": [
    "import torch.nn as nn\n",
    "import torch.optim as optim\n",
    "\n",
    "# In colab, you should ``change runtime type'' to GPU.\n",
    "device = torch.device(\"cuda\" if torch.cuda.is_available() else \"cpu\")\n",
    "print(\"Using device:\", device)\n",
    "\n",
    "# your code here"
   ]
  }
 ],
 "metadata": {
  "colab": {
   "provenance": []
  },
  "jupytext": {
   "main_language": "python"
  },
  "kernelspec": {
   "display_name": "Python 3",
   "name": "python3"
  },
  "language_info": {
   "name": "python"
  }
 },
 "nbformat": 4,
 "nbformat_minor": 0
}
