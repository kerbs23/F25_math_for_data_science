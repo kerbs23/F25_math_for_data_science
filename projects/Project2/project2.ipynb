{
 "cells": [
  {
   "cell_type": "markdown",
   "metadata": {
    "id": "0gdC70xxFyc4",
    "lines_to_next_cell": 2
   },
   "source": [
    "Math 5750/6880: Mathematics of Data Science \\\n",
    "Project 2\n",
    "pyright: basic\n",
    "ruff: noqa: e402"
   ]
  },
  {
   "cell_type": "markdown",
   "metadata": {
    "id": "i9_7SnpMGKDJ"
   },
   "source": [
    "# 1. Clustering Gaussian Blobs using $k$-means"
   ]
  },
  {
   "cell_type": "code",
   "execution_count": 1,
   "metadata": {
    "colab": {
     "base_uri": "https://localhost:8080/"
    },
    "id": "AB136H0PGKq1",
    "outputId": "6fcea671-2dcb-4b43-c98a-83ec001de164"
   },
   "outputs": [
    {
     "name": "stdout",
     "output_type": "stream",
     "text": [
      "<class 'numpy.ndarray'> (1000, 10)\n",
      "<class 'numpy.ndarray'> (1000,)\n"
     ]
    }
   ],
   "source": [
    "import numpy as np\n",
    "import pandas as pd\n",
    "from sklearn.datasets import make_blobs\n",
    "\n",
    "# Generate 5 Gaussian blobs in 10 dimensions\n",
    "X, y_true = make_blobs(\n",
    "    n_samples=1000,\n",
    "    centers=5,\n",
    "    n_features=10,\n",
    "    cluster_std=1.5,\n",
    "    random_state=1)        # reproducibility\n",
    "X = StandardScaler().fit_transform(X)\n",
    "\n",
    "print(type(X),X.shape)\n",
    "print(type(y_true),y_true.shape)"
   ]
  },
  {
   "cell_type": "code",
   "execution_count": 2,
   "metadata": {
    "id": "5GAsN-dmHjRM",
    "lines_to_next_cell": 2
   },
   "outputs": [],
   "source": [
    "# Start with a basic k-means analysys of the data\n",
    "from sklearn.cluster import KMeans\n",
    "from sklearn.preprocessing import StandardScaler\n",
    "from sklearn.decomposition import PCA\n",
    "\n",
    "import matplotlib.pyplot as plt\n",
    "\n",
    "df = pd.DataFrame(data=X)\n",
    "df.columns = [f'X_{i+1}' for i in range(len(df.columns))]\n",
    "df['true_category'] = y_true\n",
    "\n",
    "kmeans_5 = KMeans(n_clusters=5).fit(X) # because this is using k-means++ sampling there is only one run, so lowest inertia is just the inertia of the output\n",
    "print(f'Lowest inertia: {kmeans_5.inertia_}')\n",
    "df['kmeans_5_pred_category'] = kmeans_5.labels_\n",
    "\n",
    "centers = kmeans_5.cluster_centers_\n",
    "\n",
    "# PCA down to 2 dim\n",
    "X_pca_2d = PCA(n_components=2).fit(X)\n",
    "df[['X_pca_2d_1', 'X_pca_2d_2']] = X_pca_2d.transform(X)\n",
    "centers_2d = X_pca_2d.transform(centers)\n",
    "\n",
    "print(df.head)\n",
    "df.to_csv(\"gausian_blob_processed.csv\")\n",
    "\n",
    "# Plot it\n",
    "plt.scatter(df['X_pca_2d_1'], df['X_pca_2d_2'], c=df['kmeans_5_pred_category'], cmap='viridis')\n",
    "plt.scatter(centers_2d[:, 0], centers_2d[:, 1], c='red', marker='X', s=200)\n",
    "plt.savefig('KMeans_plot.png')\n",
    "plt.show()\n",
    "\n",
    "# now to re-index to match the predicted and real columns"
   ]
  },
  {
   "cell_type": "markdown",
   "metadata": {
    "id": "a2qcKggmIH8T"
   },
   "source": [
    "\n",
    "# 2. Clustering Fashion-MNIST using $k$-means"
   ]
  },
  {
   "cell_type": "code",
   "execution_count": 3,
   "metadata": {
    "colab": {
     "base_uri": "https://localhost:8080/"
    },
    "id": "B9IQwhgcIVOl",
    "outputId": "5cc76846-93c1-492c-a1ab-6388f8300da9"
   },
   "outputs": [
    {
     "name": "stdout",
     "output_type": "stream",
     "text": [
      "<class 'numpy.ndarray'> (70000, 784)\n",
      "<class 'numpy.ndarray'> (70000,)\n"
     ]
    }
   ],
   "source": [
    "import numpy as np\n",
    "from sklearn.datasets import fetch_openml\n",
    "from sklearn.preprocessing import StandardScaler\n",
    "\n",
    "# Load Fashion-MNIST from OpenML\n",
    "# Classes (0-9): T-shirt/top, Trouser, Pullover, Dress, Coat, Sandal, Shirt, Sneaker, Bag, Ankle boot\n",
    "X, y = fetch_openml(\"Fashion-MNIST\", version=1, as_frame=False, parser=\"auto\", return_X_y=True)\n",
    "y = y.astype(int)\n",
    "\n",
    "print(type(X),X.shape)\n",
    "print(type(y),y.shape)"
   ]
  },
  {
   "cell_type": "code",
   "execution_count": 4,
   "metadata": {
    "id": "0REsDBunNmEl"
   },
   "outputs": [],
   "source": [
    "# your code here"
   ]
  },
  {
   "cell_type": "markdown",
   "metadata": {
    "id": "6Bpow7TrZ7iB"
   },
   "source": [
    "# 3. Dimensionality reduction for Fashion-MNIST"
   ]
  },
  {
   "cell_type": "code",
   "execution_count": 5,
   "metadata": {
    "id": "ejYYENCQZ9tj"
   },
   "outputs": [],
   "source": [
    "# your code here"
   ]
  },
  {
   "cell_type": "markdown",
   "metadata": {
    "id": "fOTFcjWOfCZU"
   },
   "source": [
    "# 4. Clustering Fashion-MNIST using spectral clustering"
   ]
  },
  {
   "cell_type": "code",
   "execution_count": 6,
   "metadata": {
    "id": "MRB_nw21fI24"
   },
   "outputs": [],
   "source": [
    "# your code here"
   ]
  }
 ],
 "metadata": {
  "colab": {
   "provenance": []
  },
  "jupytext": {
   "main_language": "python"
  },
  "kernelspec": {
   "display_name": "Python 3",
   "name": "python3"
  },
  "language_info": {
   "name": "python"
  }
 },
 "nbformat": 4,
 "nbformat_minor": 0
}
